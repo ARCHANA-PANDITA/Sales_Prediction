{
  "nbformat": 4,
  "nbformat_minor": 0,
  "metadata": {
    "colab": {
      "name": "AD-salesPrediction.ipynb",
      "provenance": [],
      "collapsed_sections": []
    },
    "kernelspec": {
      "name": "python3",
      "display_name": "Python 3"
    },
    "language_info": {
      "name": "python"
    }
  },
  "cells": [
    {
      "cell_type": "markdown",
      "source": [
        "# AD-Sale Prediction from Existing customer - Logistic Regression\n"
      ],
      "metadata": {
        "id": "aYbUAKyTR6wS"
      }
    },
    {
      "cell_type": "markdown",
      "source": [
        "####Importing Libraries"
      ],
      "metadata": {
        "id": "4BkGuziVR2iB"
      }
    },
    {
      "cell_type": "code",
      "source": [
        "import pandas as pd #useful for loading the dataset\n",
        "import numpy as np #to perform array"
      ],
      "metadata": {
        "id": "BJ-dX_mrSa3o"
      },
      "execution_count": null,
      "outputs": []
    },
    {
      "cell_type": "markdown",
      "source": [
        "####Choose Dataset file from Local Directory"
      ],
      "metadata": {
        "id": "XdfvQwdjSeHR"
      }
    },
    {
      "cell_type": "code",
      "source": [
        "from google.colab import files\n",
        "uploaded = files.upload()"
      ],
      "metadata": {
        "colab": {
          "resources": {
            "http://localhost:8080/nbextensions/google.colab/files.js": {
              "data": "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",
              "ok": true,
              "headers": [
                [
                  "content-type",
                  "application/javascript"
                ]
              ],
              "status": 200,
              "status_text": ""
            }
          },
          "base_uri": "https://localhost:8080/",
          "height": 73
        },
        "id": "jv24leOpSkKk",
        "outputId": "04244975-9de4-4859-cdbb-638e19c30abb"
      },
      "execution_count": null,
      "outputs": [
        {
          "output_type": "display_data",
          "data": {
            "text/html": [
              "\n",
              "     <input type=\"file\" id=\"files-faf3c436-71c5-4e12-bd88-161dc5e5a6a9\" name=\"files[]\" multiple disabled\n",
              "        style=\"border:none\" />\n",
              "     <output id=\"result-faf3c436-71c5-4e12-bd88-161dc5e5a6a9\">\n",
              "      Upload widget is only available when the cell has been executed in the\n",
              "      current browser session. Please rerun this cell to enable.\n",
              "      </output>\n",
              "      <script src=\"/nbextensions/google.colab/files.js\"></script> "
            ],
            "text/plain": [
              "<IPython.core.display.HTML object>"
            ]
          },
          "metadata": {}
        },
        {
          "output_type": "stream",
          "name": "stdout",
          "text": [
            "Saving Ad_dataset.csv to Ad_dataset.csv\n"
          ]
        }
      ]
    },
    {
      "cell_type": "markdown",
      "source": [
        "####Read Dataset And View"
      ],
      "metadata": {
        "id": "RC8L2Zy3SsX4"
      }
    },
    {
      "cell_type": "code",
      "source": [
        "dataset = pd.read_csv('Ad_dataset.csv')\n",
        "print(dataset)"
      ],
      "metadata": {
        "colab": {
          "base_uri": "https://localhost:8080/"
        },
        "id": "hZHoA07WS0HO",
        "outputId": "9404aad2-0ee2-4f63-abe0-0cb9d61c221a"
      },
      "execution_count": null,
      "outputs": [
        {
          "output_type": "stream",
          "name": "stdout",
          "text": [
            "     Age  Salary  Status\n",
            "0     30   23000       1\n",
            "1     33   58000       0\n",
            "2     36   68000       0\n",
            "3     27   27000       1\n",
            "4     32   38000       0\n",
            "..   ...     ...     ...\n",
            "834   24   18000       0\n",
            "835   39   18000       0\n",
            "836   40   42000       0\n",
            "837   26   58000       0\n",
            "838   20   76000       0\n",
            "\n",
            "[839 rows x 3 columns]\n"
          ]
        }
      ]
    },
    {
      "cell_type": "markdown",
      "source": [
        "####Summarize Dataset"
      ],
      "metadata": {
        "id": "T0Oq1vReTfM-"
      }
    },
    {
      "cell_type": "code",
      "source": [
        "print(dataset.shape)\n",
        "dataset=pd.DataFrame(dataset)\n",
        "dataset.head(5)"
      ],
      "metadata": {
        "colab": {
          "base_uri": "https://localhost:8080/",
          "height": 221
        },
        "id": "bU2NsLQwTSLI",
        "outputId": "3386972f-2754-4dab-97da-69434c1e5d8b"
      },
      "execution_count": null,
      "outputs": [
        {
          "output_type": "stream",
          "name": "stdout",
          "text": [
            "(839, 3)\n"
          ]
        },
        {
          "output_type": "execute_result",
          "data": {
            "text/html": [
              "\n",
              "  <div id=\"df-853ca16c-474a-4f74-92d4-6c8188df69dd\">\n",
              "    <div class=\"colab-df-container\">\n",
              "      <div>\n",
              "<style scoped>\n",
              "    .dataframe tbody tr th:only-of-type {\n",
              "        vertical-align: middle;\n",
              "    }\n",
              "\n",
              "    .dataframe tbody tr th {\n",
              "        vertical-align: top;\n",
              "    }\n",
              "\n",
              "    .dataframe thead th {\n",
              "        text-align: right;\n",
              "    }\n",
              "</style>\n",
              "<table border=\"1\" class=\"dataframe\">\n",
              "  <thead>\n",
              "    <tr style=\"text-align: right;\">\n",
              "      <th></th>\n",
              "      <th>Age</th>\n",
              "      <th>Salary</th>\n",
              "      <th>Status</th>\n",
              "    </tr>\n",
              "  </thead>\n",
              "  <tbody>\n",
              "    <tr>\n",
              "      <th>0</th>\n",
              "      <td>30</td>\n",
              "      <td>23000</td>\n",
              "      <td>1</td>\n",
              "    </tr>\n",
              "    <tr>\n",
              "      <th>1</th>\n",
              "      <td>33</td>\n",
              "      <td>58000</td>\n",
              "      <td>0</td>\n",
              "    </tr>\n",
              "    <tr>\n",
              "      <th>2</th>\n",
              "      <td>36</td>\n",
              "      <td>68000</td>\n",
              "      <td>0</td>\n",
              "    </tr>\n",
              "    <tr>\n",
              "      <th>3</th>\n",
              "      <td>27</td>\n",
              "      <td>27000</td>\n",
              "      <td>1</td>\n",
              "    </tr>\n",
              "    <tr>\n",
              "      <th>4</th>\n",
              "      <td>32</td>\n",
              "      <td>38000</td>\n",
              "      <td>0</td>\n",
              "    </tr>\n",
              "  </tbody>\n",
              "</table>\n",
              "</div>\n",
              "      <button class=\"colab-df-convert\" onclick=\"convertToInteractive('df-853ca16c-474a-4f74-92d4-6c8188df69dd')\"\n",
              "              title=\"Convert this dataframe to an interactive table.\"\n",
              "              style=\"display:none;\">\n",
              "        \n",
              "  <svg xmlns=\"http://www.w3.org/2000/svg\" height=\"24px\"viewBox=\"0 0 24 24\"\n",
              "       width=\"24px\">\n",
              "    <path d=\"M0 0h24v24H0V0z\" fill=\"none\"/>\n",
              "    <path d=\"M18.56 5.44l.94 2.06.94-2.06 2.06-.94-2.06-.94-.94-2.06-.94 2.06-2.06.94zm-11 1L8.5 8.5l.94-2.06 2.06-.94-2.06-.94L8.5 2.5l-.94 2.06-2.06.94zm10 10l.94 2.06.94-2.06 2.06-.94-2.06-.94-.94-2.06-.94 2.06-2.06.94z\"/><path d=\"M17.41 7.96l-1.37-1.37c-.4-.4-.92-.59-1.43-.59-.52 0-1.04.2-1.43.59L10.3 9.45l-7.72 7.72c-.78.78-.78 2.05 0 2.83L4 21.41c.39.39.9.59 1.41.59.51 0 1.02-.2 1.41-.59l7.78-7.78 2.81-2.81c.8-.78.8-2.07 0-2.86zM5.41 20L4 18.59l7.72-7.72 1.47 1.35L5.41 20z\"/>\n",
              "  </svg>\n",
              "      </button>\n",
              "      \n",
              "  <style>\n",
              "    .colab-df-container {\n",
              "      display:flex;\n",
              "      flex-wrap:wrap;\n",
              "      gap: 12px;\n",
              "    }\n",
              "\n",
              "    .colab-df-convert {\n",
              "      background-color: #E8F0FE;\n",
              "      border: none;\n",
              "      border-radius: 50%;\n",
              "      cursor: pointer;\n",
              "      display: none;\n",
              "      fill: #1967D2;\n",
              "      height: 32px;\n",
              "      padding: 0 0 0 0;\n",
              "      width: 32px;\n",
              "    }\n",
              "\n",
              "    .colab-df-convert:hover {\n",
              "      background-color: #E2EBFA;\n",
              "      box-shadow: 0px 1px 2px rgba(60, 64, 67, 0.3), 0px 1px 3px 1px rgba(60, 64, 67, 0.15);\n",
              "      fill: #174EA6;\n",
              "    }\n",
              "\n",
              "    [theme=dark] .colab-df-convert {\n",
              "      background-color: #3B4455;\n",
              "      fill: #D2E3FC;\n",
              "    }\n",
              "\n",
              "    [theme=dark] .colab-df-convert:hover {\n",
              "      background-color: #434B5C;\n",
              "      box-shadow: 0px 1px 3px 1px rgba(0, 0, 0, 0.15);\n",
              "      filter: drop-shadow(0px 1px 2px rgba(0, 0, 0, 0.3));\n",
              "      fill: #FFFFFF;\n",
              "    }\n",
              "  </style>\n",
              "\n",
              "      <script>\n",
              "        const buttonEl =\n",
              "          document.querySelector('#df-853ca16c-474a-4f74-92d4-6c8188df69dd button.colab-df-convert');\n",
              "        buttonEl.style.display =\n",
              "          google.colab.kernel.accessAllowed ? 'block' : 'none';\n",
              "\n",
              "        async function convertToInteractive(key) {\n",
              "          const element = document.querySelector('#df-853ca16c-474a-4f74-92d4-6c8188df69dd');\n",
              "          const dataTable =\n",
              "            await google.colab.kernel.invokeFunction('convertToInteractive',\n",
              "                                                     [key], {});\n",
              "          if (!dataTable) return;\n",
              "\n",
              "          const docLinkHtml = 'Like what you see? Visit the ' +\n",
              "            '<a target=\"_blank\" href=https://colab.research.google.com/notebooks/data_table.ipynb>data table notebook</a>'\n",
              "            + ' to learn more about interactive tables.';\n",
              "          element.innerHTML = '';\n",
              "          dataTable['output_type'] = 'display_data';\n",
              "          await google.colab.output.renderOutput(dataTable, element);\n",
              "          const docLink = document.createElement('div');\n",
              "          docLink.innerHTML = docLinkHtml;\n",
              "          element.appendChild(docLink);\n",
              "        }\n",
              "      </script>\n",
              "    </div>\n",
              "  </div>\n",
              "  "
            ],
            "text/plain": [
              "   Age  Salary  Status\n",
              "0   30   23000       1\n",
              "1   33   58000       0\n",
              "2   36   68000       0\n",
              "3   27   27000       1\n",
              "4   32   38000       0"
            ]
          },
          "metadata": {},
          "execution_count": 32
        }
      ]
    },
    {
      "cell_type": "markdown",
      "source": [
        "####Segregate Dataset into X(Input/IndependentVariable) & Y(Output/DependentVariable)"
      ],
      "metadata": {
        "id": "kFTU0wiYTx7s"
      }
    },
    {
      "cell_type": "code",
      "source": [
        "#X = dataset.iloc[:,:-1].values\n",
        "X = dataset.iloc[:,:-1]\n",
        "X"
      ],
      "metadata": {
        "colab": {
          "base_uri": "https://localhost:8080/",
          "height": 419
        },
        "id": "MmTXXdVoTmzU",
        "outputId": "dcc89e60-a0a3-4b91-d64f-4d0319ac7f1c"
      },
      "execution_count": null,
      "outputs": [
        {
          "output_type": "execute_result",
          "data": {
            "text/html": [
              "\n",
              "  <div id=\"df-80697f60-c9d5-41d1-93fc-aa8273b39a77\">\n",
              "    <div class=\"colab-df-container\">\n",
              "      <div>\n",
              "<style scoped>\n",
              "    .dataframe tbody tr th:only-of-type {\n",
              "        vertical-align: middle;\n",
              "    }\n",
              "\n",
              "    .dataframe tbody tr th {\n",
              "        vertical-align: top;\n",
              "    }\n",
              "\n",
              "    .dataframe thead th {\n",
              "        text-align: right;\n",
              "    }\n",
              "</style>\n",
              "<table border=\"1\" class=\"dataframe\">\n",
              "  <thead>\n",
              "    <tr style=\"text-align: right;\">\n",
              "      <th></th>\n",
              "      <th>Age</th>\n",
              "      <th>Salary</th>\n",
              "    </tr>\n",
              "  </thead>\n",
              "  <tbody>\n",
              "    <tr>\n",
              "      <th>0</th>\n",
              "      <td>30</td>\n",
              "      <td>23000</td>\n",
              "    </tr>\n",
              "    <tr>\n",
              "      <th>1</th>\n",
              "      <td>33</td>\n",
              "      <td>58000</td>\n",
              "    </tr>\n",
              "    <tr>\n",
              "      <th>2</th>\n",
              "      <td>36</td>\n",
              "      <td>68000</td>\n",
              "    </tr>\n",
              "    <tr>\n",
              "      <th>3</th>\n",
              "      <td>27</td>\n",
              "      <td>27000</td>\n",
              "    </tr>\n",
              "    <tr>\n",
              "      <th>4</th>\n",
              "      <td>32</td>\n",
              "      <td>38000</td>\n",
              "    </tr>\n",
              "    <tr>\n",
              "      <th>...</th>\n",
              "      <td>...</td>\n",
              "      <td>...</td>\n",
              "    </tr>\n",
              "    <tr>\n",
              "      <th>834</th>\n",
              "      <td>24</td>\n",
              "      <td>18000</td>\n",
              "    </tr>\n",
              "    <tr>\n",
              "      <th>835</th>\n",
              "      <td>39</td>\n",
              "      <td>18000</td>\n",
              "    </tr>\n",
              "    <tr>\n",
              "      <th>836</th>\n",
              "      <td>40</td>\n",
              "      <td>42000</td>\n",
              "    </tr>\n",
              "    <tr>\n",
              "      <th>837</th>\n",
              "      <td>26</td>\n",
              "      <td>58000</td>\n",
              "    </tr>\n",
              "    <tr>\n",
              "      <th>838</th>\n",
              "      <td>20</td>\n",
              "      <td>76000</td>\n",
              "    </tr>\n",
              "  </tbody>\n",
              "</table>\n",
              "<p>839 rows × 2 columns</p>\n",
              "</div>\n",
              "      <button class=\"colab-df-convert\" onclick=\"convertToInteractive('df-80697f60-c9d5-41d1-93fc-aa8273b39a77')\"\n",
              "              title=\"Convert this dataframe to an interactive table.\"\n",
              "              style=\"display:none;\">\n",
              "        \n",
              "  <svg xmlns=\"http://www.w3.org/2000/svg\" height=\"24px\"viewBox=\"0 0 24 24\"\n",
              "       width=\"24px\">\n",
              "    <path d=\"M0 0h24v24H0V0z\" fill=\"none\"/>\n",
              "    <path d=\"M18.56 5.44l.94 2.06.94-2.06 2.06-.94-2.06-.94-.94-2.06-.94 2.06-2.06.94zm-11 1L8.5 8.5l.94-2.06 2.06-.94-2.06-.94L8.5 2.5l-.94 2.06-2.06.94zm10 10l.94 2.06.94-2.06 2.06-.94-2.06-.94-.94-2.06-.94 2.06-2.06.94z\"/><path d=\"M17.41 7.96l-1.37-1.37c-.4-.4-.92-.59-1.43-.59-.52 0-1.04.2-1.43.59L10.3 9.45l-7.72 7.72c-.78.78-.78 2.05 0 2.83L4 21.41c.39.39.9.59 1.41.59.51 0 1.02-.2 1.41-.59l7.78-7.78 2.81-2.81c.8-.78.8-2.07 0-2.86zM5.41 20L4 18.59l7.72-7.72 1.47 1.35L5.41 20z\"/>\n",
              "  </svg>\n",
              "      </button>\n",
              "      \n",
              "  <style>\n",
              "    .colab-df-container {\n",
              "      display:flex;\n",
              "      flex-wrap:wrap;\n",
              "      gap: 12px;\n",
              "    }\n",
              "\n",
              "    .colab-df-convert {\n",
              "      background-color: #E8F0FE;\n",
              "      border: none;\n",
              "      border-radius: 50%;\n",
              "      cursor: pointer;\n",
              "      display: none;\n",
              "      fill: #1967D2;\n",
              "      height: 32px;\n",
              "      padding: 0 0 0 0;\n",
              "      width: 32px;\n",
              "    }\n",
              "\n",
              "    .colab-df-convert:hover {\n",
              "      background-color: #E2EBFA;\n",
              "      box-shadow: 0px 1px 2px rgba(60, 64, 67, 0.3), 0px 1px 3px 1px rgba(60, 64, 67, 0.15);\n",
              "      fill: #174EA6;\n",
              "    }\n",
              "\n",
              "    [theme=dark] .colab-df-convert {\n",
              "      background-color: #3B4455;\n",
              "      fill: #D2E3FC;\n",
              "    }\n",
              "\n",
              "    [theme=dark] .colab-df-convert:hover {\n",
              "      background-color: #434B5C;\n",
              "      box-shadow: 0px 1px 3px 1px rgba(0, 0, 0, 0.15);\n",
              "      filter: drop-shadow(0px 1px 2px rgba(0, 0, 0, 0.3));\n",
              "      fill: #FFFFFF;\n",
              "    }\n",
              "  </style>\n",
              "\n",
              "      <script>\n",
              "        const buttonEl =\n",
              "          document.querySelector('#df-80697f60-c9d5-41d1-93fc-aa8273b39a77 button.colab-df-convert');\n",
              "        buttonEl.style.display =\n",
              "          google.colab.kernel.accessAllowed ? 'block' : 'none';\n",
              "\n",
              "        async function convertToInteractive(key) {\n",
              "          const element = document.querySelector('#df-80697f60-c9d5-41d1-93fc-aa8273b39a77');\n",
              "          const dataTable =\n",
              "            await google.colab.kernel.invokeFunction('convertToInteractive',\n",
              "                                                     [key], {});\n",
              "          if (!dataTable) return;\n",
              "\n",
              "          const docLinkHtml = 'Like what you see? Visit the ' +\n",
              "            '<a target=\"_blank\" href=https://colab.research.google.com/notebooks/data_table.ipynb>data table notebook</a>'\n",
              "            + ' to learn more about interactive tables.';\n",
              "          element.innerHTML = '';\n",
              "          dataTable['output_type'] = 'display_data';\n",
              "          await google.colab.output.renderOutput(dataTable, element);\n",
              "          const docLink = document.createElement('div');\n",
              "          docLink.innerHTML = docLinkHtml;\n",
              "          element.appendChild(docLink);\n",
              "        }\n",
              "      </script>\n",
              "    </div>\n",
              "  </div>\n",
              "  "
            ],
            "text/plain": [
              "     Age  Salary\n",
              "0     30   23000\n",
              "1     33   58000\n",
              "2     36   68000\n",
              "3     27   27000\n",
              "4     32   38000\n",
              "..   ...     ...\n",
              "834   24   18000\n",
              "835   39   18000\n",
              "836   40   42000\n",
              "837   26   58000\n",
              "838   20   76000\n",
              "\n",
              "[839 rows x 2 columns]"
            ]
          },
          "metadata": {},
          "execution_count": 33
        }
      ]
    },
    {
      "cell_type": "code",
      "source": [
        "#Y = dataset.iloc[:,-1].values\n",
        "Y = dataset.iloc[:,-1]\n",
        "Y"
      ],
      "metadata": {
        "colab": {
          "base_uri": "https://localhost:8080/"
        },
        "id": "ATSDBsQiT2ux",
        "outputId": "0e3514d7-7060-43e4-81e6-cc1b7e833ff9"
      },
      "execution_count": null,
      "outputs": [
        {
          "output_type": "execute_result",
          "data": {
            "text/plain": [
              "0      1\n",
              "1      0\n",
              "2      0\n",
              "3      1\n",
              "4      0\n",
              "      ..\n",
              "834    0\n",
              "835    0\n",
              "836    0\n",
              "837    0\n",
              "838    0\n",
              "Name: Status, Length: 839, dtype: int64"
            ]
          },
          "metadata": {},
          "execution_count": 39
        }
      ]
    },
    {
      "cell_type": "markdown",
      "source": [
        "####Splitting Dataset into Train & Test"
      ],
      "metadata": {
        "id": "wQxuyytlUOkn"
      }
    },
    {
      "cell_type": "code",
      "source": [
        "from sklearn.model_selection import train_test_split\n",
        "X_train, X_test, y_train, y_test = train_test_split(X, Y, test_size = 0.25, random_state = 0)"
      ],
      "metadata": {
        "id": "5NdZY1iWUScS"
      },
      "execution_count": null,
      "outputs": []
    },
    {
      "cell_type": "markdown",
      "source": [
        "##Feature Scaling\n",
        "####we scale our data to make all the features contribute equally to the result\n",
        "\n",
        "Fit_Transform - fit method is calculating the mean and variance of each of the features present in our data\n",
        "\n",
        "Transform - Transform method is transforming all the features using the respective mean and variance,\n",
        "\n",
        "We want our test data to be a completely new and a surprise set for our model"
      ],
      "metadata": {
        "id": "iWl6hdVKUSvT"
      }
    },
    {
      "cell_type": "code",
      "source": [
        "from sklearn.preprocessing import StandardScaler\n",
        "sc = StandardScaler()\n",
        "X_train_sc = sc.fit_transform(X_train)\n",
        "X_test_sc = sc.transform(X_test)\n",
        "print(X_train_sc)"
      ],
      "metadata": {
        "colab": {
          "base_uri": "https://localhost:8080/"
        },
        "id": "ZsRC8ivFVGj7",
        "outputId": "9cf71cc0-9403-4d66-89b7-41e700613c93"
      },
      "execution_count": null,
      "outputs": [
        {
          "output_type": "stream",
          "name": "stdout",
          "text": [
            "[[-0.45572515  0.54257301]\n",
            " [ 0.28382882 -1.34724236]\n",
            " [-1.34318991  1.43189788]\n",
            " ...\n",
            " [-1.19527911  1.6542291 ]\n",
            " [ 1.61502596 -1.34724236]\n",
            " [ 0.87547199 -1.68073918]]\n"
          ]
        }
      ]
    },
    {
      "cell_type": "markdown",
      "source": [
        "##Traning\n"
      ],
      "metadata": {
        "id": "99zUSwuLVTFQ"
      }
    },
    {
      "cell_type": "code",
      "source": [
        "from sklearn.linear_model import LogisticRegression\n",
        "model = LogisticRegression(random_state = 0)\n",
        "model.fit(X_train, y_train)"
      ],
      "metadata": {
        "colab": {
          "base_uri": "https://localhost:8080/"
        },
        "id": "B2nEzW0aVLeL",
        "outputId": "d1b26fce-b538-4905-d96e-91a2c8c4460c"
      },
      "execution_count": null,
      "outputs": [
        {
          "output_type": "execute_result",
          "data": {
            "text/plain": [
              "LogisticRegression(random_state=0)"
            ]
          },
          "metadata": {},
          "execution_count": 16
        }
      ]
    },
    {
      "cell_type": "markdown",
      "source": [
        "####Predicting, whether new customer with Age & Salary will Buy or Not"
      ],
      "metadata": {
        "id": "6jT7X4LFWPFS"
      }
    },
    {
      "cell_type": "code",
      "source": [
        "age = int(input(\"Enter New Customer's Age:\"))\n",
        "sal = int(input(\"Enter New Customer's Salary:\"))\n",
        "newCust = [[age, sal]]\n",
        "result = model.predict(sc.transform(newCust))\n",
        "print (result)\n",
        "if result == 1:\n",
        "  print(\"Customer will Buy\")\n",
        "else:\n",
        "  print(\"Customer won't Buy\")"
      ],
      "metadata": {
        "colab": {
          "base_uri": "https://localhost:8080/"
        },
        "id": "XwGvhv70WJGJ",
        "outputId": "e15eebe9-0026-4653-a34f-3f97ec5d4a51"
      },
      "execution_count": null,
      "outputs": [
        {
          "output_type": "stream",
          "name": "stdout",
          "text": [
            "Enter New Customer's Age:7\n",
            "Enter New Customer's Salary:'89999\n",
            "[0]\n",
            "Customer won't Buy\n"
          ]
        }
      ]
    },
    {
      "cell_type": "markdown",
      "source": [
        "####Prediction for all Test Data"
      ],
      "metadata": {
        "id": "GBbpDOT5W3UM"
      }
    },
    {
      "cell_type": "code",
      "source": [
        "y_pred = model.predict(X_test)\n",
        "print(np.concatenate((y_pred.reshape(len(y_pred),1),y_test.reshape(len(y_test),1)),1))"
      ],
      "metadata": {
        "colab": {
          "base_uri": "https://localhost:8080/"
        },
        "id": "BvNoX2apWfUL",
        "outputId": "2fed7483-0006-4f1f-eb32-19f18629b945"
      },
      "execution_count": null,
      "outputs": [
        {
          "output_type": "stream",
          "name": "stdout",
          "text": [
            "[[0 0]\n",
            " [0 0]\n",
            " [0 0]\n",
            " [1 1]\n",
            " [0 0]\n",
            " [1 1]\n",
            " [0 0]\n",
            " [0 0]\n",
            " [0 0]\n",
            " [0 0]\n",
            " [0 0]\n",
            " [0 0]\n",
            " [0 0]\n",
            " [1 1]\n",
            " [0 0]\n",
            " [0 0]\n",
            " [0 0]\n",
            " [1 0]\n",
            " [0 0]\n",
            " [0 0]\n",
            " [0 0]\n",
            " [1 1]\n",
            " [0 0]\n",
            " [0 0]\n",
            " [0 0]\n",
            " [0 0]\n",
            " [0 0]\n",
            " [0 0]\n",
            " [0 0]\n",
            " [0 0]\n",
            " [0 0]\n",
            " [0 0]\n",
            " [0 0]\n",
            " [0 0]\n",
            " [0 0]\n",
            " [0 0]\n",
            " [0 0]\n",
            " [0 0]\n",
            " [0 0]\n",
            " [0 0]\n",
            " [0 0]\n",
            " [0 0]\n",
            " [0 0]\n",
            " [1 1]\n",
            " [0 0]\n",
            " [0 1]\n",
            " [0 0]\n",
            " [0 0]\n",
            " [1 1]\n",
            " [0 0]\n",
            " [0 0]\n",
            " [0 0]\n",
            " [0 0]\n",
            " [1 1]\n",
            " [0 0]\n",
            " [0 0]\n",
            " [0 0]\n",
            " [0 0]\n",
            " [0 0]\n",
            " [0 0]\n",
            " [0 0]\n",
            " [1 1]\n",
            " [0 0]\n",
            " [0 0]\n",
            " [0 0]\n",
            " [0 0]\n",
            " [0 0]\n",
            " [0 0]\n",
            " [0 0]\n",
            " [0 0]\n",
            " [0 0]\n",
            " [0 0]\n",
            " [1 0]\n",
            " [0 0]\n",
            " [1 1]\n",
            " [0 0]\n",
            " [0 1]\n",
            " [0 0]\n",
            " [0 0]\n",
            " [1 1]\n",
            " [0 0]\n",
            " [0 0]\n",
            " [0 0]\n",
            " [0 0]\n",
            " [0 0]\n",
            " [1 0]\n",
            " [0 0]\n",
            " [0 0]\n",
            " [0 0]\n",
            " [0 0]\n",
            " [1 1]\n",
            " [0 0]\n",
            " [0 0]\n",
            " [0 0]\n",
            " [0 0]\n",
            " [0 0]\n",
            " [0 0]\n",
            " [1 1]\n",
            " [0 0]\n",
            " [1 1]\n",
            " [0 0]\n",
            " [0 0]\n",
            " [0 0]\n",
            " [0 0]\n",
            " [0 0]\n",
            " [0 0]\n",
            " [0 0]\n",
            " [0 0]\n",
            " [0 0]\n",
            " [0 0]\n",
            " [0 0]\n",
            " [0 0]\n",
            " [0 0]\n",
            " [1 1]\n",
            " [0 0]\n",
            " [0 0]\n",
            " [0 0]\n",
            " [0 0]\n",
            " [1 1]\n",
            " [0 0]\n",
            " [0 0]\n",
            " [0 0]\n",
            " [0 0]\n",
            " [0 0]\n",
            " [0 0]\n",
            " [0 0]\n",
            " [1 1]\n",
            " [0 0]\n",
            " [0 0]\n",
            " [0 0]\n",
            " [0 0]\n",
            " [0 0]\n",
            " [0 0]\n",
            " [0 0]\n",
            " [0 0]\n",
            " [1 0]\n",
            " [0 0]\n",
            " [0 0]\n",
            " [0 0]\n",
            " [1 0]\n",
            " [0 0]\n",
            " [0 0]\n",
            " [0 0]\n",
            " [0 1]\n",
            " [1 1]\n",
            " [0 0]\n",
            " [0 0]\n",
            " [1 1]\n",
            " [0 0]\n",
            " [0 0]\n",
            " [0 0]\n",
            " [0 0]\n",
            " [0 0]\n",
            " [0 1]\n",
            " [0 0]\n",
            " [0 0]\n",
            " [0 0]\n",
            " [0 0]\n",
            " [0 0]\n",
            " [0 0]\n",
            " [0 0]\n",
            " [0 0]\n",
            " [0 0]\n",
            " [0 0]\n",
            " [0 0]\n",
            " [0 0]\n",
            " [0 0]\n",
            " [0 1]\n",
            " [0 0]\n",
            " [0 0]\n",
            " [0 1]\n",
            " [1 1]\n",
            " [0 0]\n",
            " [0 0]\n",
            " [0 0]\n",
            " [0 0]\n",
            " [0 0]\n",
            " [0 0]\n",
            " [0 0]\n",
            " [0 0]\n",
            " [0 0]\n",
            " [0 0]\n",
            " [0 0]\n",
            " [0 0]\n",
            " [0 0]\n",
            " [0 0]\n",
            " [0 0]\n",
            " [0 0]\n",
            " [1 1]\n",
            " [1 1]\n",
            " [0 0]\n",
            " [0 0]\n",
            " [0 0]\n",
            " [0 0]\n",
            " [0 0]\n",
            " [0 0]\n",
            " [0 0]\n",
            " [0 0]\n",
            " [0 0]\n",
            " [0 0]\n",
            " [0 0]\n",
            " [0 0]\n",
            " [0 0]\n",
            " [0 0]\n",
            " [0 0]\n",
            " [0 0]\n",
            " [0 0]\n",
            " [1 0]\n",
            " [0 0]\n",
            " [0 1]]\n"
          ]
        }
      ]
    },
    {
      "cell_type": "markdown",
      "source": [
        "### Evaluating Model - CONFUSION MATRIX"
      ],
      "metadata": {
        "id": "LnyZIACnIp2a"
      }
    },
    {
      "cell_type": "markdown",
      "source": [
        "![WhatsApp Image 2022-01-14 at 8.44.56 PM-2.jpeg](data:image/jpeg;base64,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)"
      ],
      "metadata": {
        "id": "eHldS6FfJnIO"
      }
    },
    {
      "cell_type": "markdown",
      "source": [
        "**Accuracy= (TP + TN) / (TP + TN + FP + FN)**\n",
        "\n"
      ],
      "metadata": {
        "id": "ksngl0ABN-V4"
      }
    },
    {
      "cell_type": "markdown",
      "source": [
        ""
      ],
      "metadata": {
        "id": "_AwV4AEOKok5"
      }
    },
    {
      "cell_type": "code",
      "source": [
        "from sklearn.metrics import confusion_matrix, accuracy_score\n",
        "cm = confusion_matrix(y_test, y_pred)\n",
        "print(\"Confusion Matrix:\")\n",
        "print(cm)\n",
        "print(\"Accuracy of the Model:{0}%\".format(accuracy_score(y_test,y_pred)*100))"
      ],
      "metadata": {
        "colab": {
          "base_uri": "https://localhost:8080/"
        },
        "id": "gbIwAGB5W_8R",
        "outputId": "a2ce312d-d1e7-4468-896e-6c3963d607d6"
      },
      "execution_count": null,
      "outputs": [
        {
          "output_type": "stream",
          "name": "stdout",
          "text": [
            "Confusion Matrix:\n",
            "[[176   6]\n",
            " [  7  21]]\n",
            "Accuracy of the Model:93.80952380952381%\n"
          ]
        }
      ]
    },
    {
      "cell_type": "code",
      "source": [
        ""
      ],
      "metadata": {
        "id": "A2l4txOLL8Y0"
      },
      "execution_count": null,
      "outputs": []
    }
  ]
}